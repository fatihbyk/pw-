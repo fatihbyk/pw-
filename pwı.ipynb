{
 "cells": [
  {
   "cell_type": "code",
   "execution_count": 49,
   "id": "e8686710",
   "metadata": {},
   "outputs": [],
   "source": [
    "import pandas as pd \n",
    "import seaborn as sns\n",
    "import matplotlib.pyplot as plt\n",
    "import numpy as np"
   ]
  },
  {
   "cell_type": "code",
   "execution_count": 50,
   "id": "c330f4f2",
   "metadata": {},
   "outputs": [],
   "source": [
    "df=pd.read_csv('country_vaccination_stats.csv')"
   ]
  },
  {
   "cell_type": "code",
   "execution_count": 51,
   "id": "227898bc",
   "metadata": {},
   "outputs": [],
   "source": [
    "#QUESTİON1"
   ]
  },
  {
   "cell_type": "code",
   "execution_count": 52,
   "id": "ce6a63a9",
   "metadata": {},
   "outputs": [],
   "source": [
    "def country_vacc(df):\n",
    "    if df.groupby('country')['daily_vaccinations'] == \"Nan\":\n",
    "        return 0\n",
    "    else:\n",
    "        return df.groupby('country')['daily_vaccinations'].min()\n",
    "    df = df.assign(daily_vaccinations=df.apply(country_vacc, axis=1))"
   ]
  },
  {
   "cell_type": "code",
   "execution_count": 53,
   "id": "50ed61b0",
   "metadata": {},
   "outputs": [],
   "source": [
    "df['daily_vaccinations']=df['daily_vaccinations'].fillna(df.groupby('country')['daily_vaccinations'].transform('min'))\n",
    "df['daily_vaccinations'].fillna(0,inplace=True)"
   ]
  },
  {
   "cell_type": "code",
   "execution_count": 54,
   "id": "e9aad93c",
   "metadata": {},
   "outputs": [],
   "source": [
    "#QUESTİON2"
   ]
  },
  {
   "cell_type": "code",
   "execution_count": 55,
   "id": "3191899d",
   "metadata": {},
   "outputs": [
    {
     "data": {
      "text/plain": [
       "country\n",
       "United States    378253.0\n",
       "China            276786.0\n",
       "India            173922.0\n",
       "Name: daily_vaccinations, dtype: float64"
      ]
     },
     "execution_count": 55,
     "metadata": {},
     "output_type": "execute_result"
    }
   ],
   "source": [
    "df.groupby('country')['daily_vaccinations'].median().sort_values(ascending=False).head(3)"
   ]
  },
  {
   "cell_type": "code",
   "execution_count": 56,
   "id": "bedcbc4c",
   "metadata": {},
   "outputs": [
    {
     "data": {
      "text/plain": [
       "1485255.0"
      ]
     },
     "execution_count": 56,
     "metadata": {},
     "output_type": "execute_result"
    }
   ],
   "source": [
    "#QUESTİON3\n",
    "df[df['date']==\"1/6/2021\"].daily_vaccinations.sum()\n"
   ]
  },
  {
   "cell_type": "code",
   "execution_count": 67,
   "id": "b64fc422",
   "metadata": {},
   "outputs": [
    {
     "name": "stdout",
     "output_type": "stream",
     "text": [
      "xcd32112.smart_meter.com\n"
     ]
    }
   ],
   "source": [
    "import re\n",
    "\n",
    "device_type = \"AXO145\"\n",
    "stats_access_link = \"<url>https://xcd32112.smart_meter.com</url>\"\n",
    "\n",
    "rule = r'<url>https:\\/\\/([a-zA-Z0-9_\\.]+)<\\/url>'\n",
    "result = re.fullmatch(rule, stats_access_link)\n",
    "\n",
    "if match:\n",
    "    domain = result.group(1)\n",
    "    print(domain)\n",
    "else:\n",
    "    print(\"Access Protocol is not SSL\")"
   ]
  },
  {
   "cell_type": "code",
   "execution_count": null,
   "id": "25a96a61",
   "metadata": {},
   "outputs": [],
   "source": []
  }
 ],
 "metadata": {
  "kernelspec": {
   "display_name": "Python 3 (ipykernel)",
   "language": "python",
   "name": "python3"
  },
  "language_info": {
   "codemirror_mode": {
    "name": "ipython",
    "version": 3
   },
   "file_extension": ".py",
   "mimetype": "text/x-python",
   "name": "python",
   "nbconvert_exporter": "python",
   "pygments_lexer": "ipython3",
   "version": "3.9.12"
  }
 },
 "nbformat": 4,
 "nbformat_minor": 5
}
